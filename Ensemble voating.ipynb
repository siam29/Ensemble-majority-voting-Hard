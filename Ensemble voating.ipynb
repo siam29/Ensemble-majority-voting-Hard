{
 "cells": [
  {
   "cell_type": "markdown",
   "metadata": {},
   "source": [
    "# Credit Card Fraud (using ensemble learning: voating)"
   ]
  },
  {
   "cell_type": "code",
   "execution_count": 1,
   "metadata": {
    "execution": {
     "iopub.execute_input": "2024-07-07T07:07:39.427133Z",
     "iopub.status.busy": "2024-07-07T07:07:39.426693Z",
     "iopub.status.idle": "2024-07-07T07:07:42.500042Z",
     "shell.execute_reply": "2024-07-07T07:07:42.498804Z",
     "shell.execute_reply.started": "2024-07-07T07:07:39.427097Z"
    }
   },
   "outputs": [],
   "source": [
    "import matplotlib.pyplot as plt\n",
    "import numpy as np\n",
    "import pandas as pd\n",
    "import seaborn as sns\n",
    "import warnings\n",
    "from imblearn.over_sampling import SMOTE\n",
    "from imblearn.pipeline import make_pipeline\n",
    "from pylab import rcParams\n",
    "from sklearn.linear_model import LogisticRegression\n",
    "from sklearn.metrics import accuracy_score\n",
    "from sklearn.metrics import precision_score, recall_score\n",
    "from sklearn.metrics import f1_score, roc_auc_score, roc_curve\n",
    "from sklearn.model_selection import train_test_split\n",
    "from sklearn.model_selection import GridSearchCV\n",
    "from time import perf_counter\n",
    "from time import process_time\n",
    "# Import functions created for this course\n",
    "import timeit"
   ]
  },
  {
   "cell_type": "code",
   "execution_count": 2,
   "metadata": {
    "execution": {
     "iopub.execute_input": "2024-07-07T07:07:42.503328Z",
     "iopub.status.busy": "2024-07-07T07:07:42.502602Z",
     "iopub.status.idle": "2024-07-07T07:07:48.248110Z",
     "shell.execute_reply": "2024-07-07T07:07:48.246288Z",
     "shell.execute_reply.started": "2024-07-07T07:07:42.503281Z"
    }
   },
   "outputs": [
    {
     "data": {
      "text/html": [
       "<div>\n",
       "<style scoped>\n",
       "    .dataframe tbody tr th:only-of-type {\n",
       "        vertical-align: middle;\n",
       "    }\n",
       "\n",
       "    .dataframe tbody tr th {\n",
       "        vertical-align: top;\n",
       "    }\n",
       "\n",
       "    .dataframe thead th {\n",
       "        text-align: right;\n",
       "    }\n",
       "</style>\n",
       "<table border=\"1\" class=\"dataframe\">\n",
       "  <thead>\n",
       "    <tr style=\"text-align: right;\">\n",
       "      <th></th>\n",
       "      <th>Time</th>\n",
       "      <th>V1</th>\n",
       "      <th>V2</th>\n",
       "      <th>V3</th>\n",
       "      <th>V4</th>\n",
       "      <th>V5</th>\n",
       "      <th>V6</th>\n",
       "      <th>V7</th>\n",
       "      <th>V8</th>\n",
       "      <th>V9</th>\n",
       "      <th>...</th>\n",
       "      <th>V21</th>\n",
       "      <th>V22</th>\n",
       "      <th>V23</th>\n",
       "      <th>V24</th>\n",
       "      <th>V25</th>\n",
       "      <th>V26</th>\n",
       "      <th>V27</th>\n",
       "      <th>V28</th>\n",
       "      <th>Amount</th>\n",
       "      <th>Class</th>\n",
       "    </tr>\n",
       "  </thead>\n",
       "  <tbody>\n",
       "    <tr>\n",
       "      <th>0</th>\n",
       "      <td>0.0</td>\n",
       "      <td>-1.359807</td>\n",
       "      <td>-0.072781</td>\n",
       "      <td>2.536347</td>\n",
       "      <td>1.378155</td>\n",
       "      <td>-0.338321</td>\n",
       "      <td>0.462388</td>\n",
       "      <td>0.239599</td>\n",
       "      <td>0.098698</td>\n",
       "      <td>0.363787</td>\n",
       "      <td>...</td>\n",
       "      <td>-0.018307</td>\n",
       "      <td>0.277838</td>\n",
       "      <td>-0.110474</td>\n",
       "      <td>0.066928</td>\n",
       "      <td>0.128539</td>\n",
       "      <td>-0.189115</td>\n",
       "      <td>0.133558</td>\n",
       "      <td>-0.021053</td>\n",
       "      <td>149.62</td>\n",
       "      <td>0</td>\n",
       "    </tr>\n",
       "    <tr>\n",
       "      <th>1</th>\n",
       "      <td>0.0</td>\n",
       "      <td>1.191857</td>\n",
       "      <td>0.266151</td>\n",
       "      <td>0.166480</td>\n",
       "      <td>0.448154</td>\n",
       "      <td>0.060018</td>\n",
       "      <td>-0.082361</td>\n",
       "      <td>-0.078803</td>\n",
       "      <td>0.085102</td>\n",
       "      <td>-0.255425</td>\n",
       "      <td>...</td>\n",
       "      <td>-0.225775</td>\n",
       "      <td>-0.638672</td>\n",
       "      <td>0.101288</td>\n",
       "      <td>-0.339846</td>\n",
       "      <td>0.167170</td>\n",
       "      <td>0.125895</td>\n",
       "      <td>-0.008983</td>\n",
       "      <td>0.014724</td>\n",
       "      <td>2.69</td>\n",
       "      <td>0</td>\n",
       "    </tr>\n",
       "    <tr>\n",
       "      <th>2</th>\n",
       "      <td>1.0</td>\n",
       "      <td>-1.358354</td>\n",
       "      <td>-1.340163</td>\n",
       "      <td>1.773209</td>\n",
       "      <td>0.379780</td>\n",
       "      <td>-0.503198</td>\n",
       "      <td>1.800499</td>\n",
       "      <td>0.791461</td>\n",
       "      <td>0.247676</td>\n",
       "      <td>-1.514654</td>\n",
       "      <td>...</td>\n",
       "      <td>0.247998</td>\n",
       "      <td>0.771679</td>\n",
       "      <td>0.909412</td>\n",
       "      <td>-0.689281</td>\n",
       "      <td>-0.327642</td>\n",
       "      <td>-0.139097</td>\n",
       "      <td>-0.055353</td>\n",
       "      <td>-0.059752</td>\n",
       "      <td>378.66</td>\n",
       "      <td>0</td>\n",
       "    </tr>\n",
       "    <tr>\n",
       "      <th>3</th>\n",
       "      <td>1.0</td>\n",
       "      <td>-0.966272</td>\n",
       "      <td>-0.185226</td>\n",
       "      <td>1.792993</td>\n",
       "      <td>-0.863291</td>\n",
       "      <td>-0.010309</td>\n",
       "      <td>1.247203</td>\n",
       "      <td>0.237609</td>\n",
       "      <td>0.377436</td>\n",
       "      <td>-1.387024</td>\n",
       "      <td>...</td>\n",
       "      <td>-0.108300</td>\n",
       "      <td>0.005274</td>\n",
       "      <td>-0.190321</td>\n",
       "      <td>-1.175575</td>\n",
       "      <td>0.647376</td>\n",
       "      <td>-0.221929</td>\n",
       "      <td>0.062723</td>\n",
       "      <td>0.061458</td>\n",
       "      <td>123.50</td>\n",
       "      <td>0</td>\n",
       "    </tr>\n",
       "    <tr>\n",
       "      <th>4</th>\n",
       "      <td>2.0</td>\n",
       "      <td>-1.158233</td>\n",
       "      <td>0.877737</td>\n",
       "      <td>1.548718</td>\n",
       "      <td>0.403034</td>\n",
       "      <td>-0.407193</td>\n",
       "      <td>0.095921</td>\n",
       "      <td>0.592941</td>\n",
       "      <td>-0.270533</td>\n",
       "      <td>0.817739</td>\n",
       "      <td>...</td>\n",
       "      <td>-0.009431</td>\n",
       "      <td>0.798278</td>\n",
       "      <td>-0.137458</td>\n",
       "      <td>0.141267</td>\n",
       "      <td>-0.206010</td>\n",
       "      <td>0.502292</td>\n",
       "      <td>0.219422</td>\n",
       "      <td>0.215153</td>\n",
       "      <td>69.99</td>\n",
       "      <td>0</td>\n",
       "    </tr>\n",
       "    <tr>\n",
       "      <th>...</th>\n",
       "      <td>...</td>\n",
       "      <td>...</td>\n",
       "      <td>...</td>\n",
       "      <td>...</td>\n",
       "      <td>...</td>\n",
       "      <td>...</td>\n",
       "      <td>...</td>\n",
       "      <td>...</td>\n",
       "      <td>...</td>\n",
       "      <td>...</td>\n",
       "      <td>...</td>\n",
       "      <td>...</td>\n",
       "      <td>...</td>\n",
       "      <td>...</td>\n",
       "      <td>...</td>\n",
       "      <td>...</td>\n",
       "      <td>...</td>\n",
       "      <td>...</td>\n",
       "      <td>...</td>\n",
       "      <td>...</td>\n",
       "      <td>...</td>\n",
       "    </tr>\n",
       "    <tr>\n",
       "      <th>284802</th>\n",
       "      <td>172786.0</td>\n",
       "      <td>-11.881118</td>\n",
       "      <td>10.071785</td>\n",
       "      <td>-9.834783</td>\n",
       "      <td>-2.066656</td>\n",
       "      <td>-5.364473</td>\n",
       "      <td>-2.606837</td>\n",
       "      <td>-4.918215</td>\n",
       "      <td>7.305334</td>\n",
       "      <td>1.914428</td>\n",
       "      <td>...</td>\n",
       "      <td>0.213454</td>\n",
       "      <td>0.111864</td>\n",
       "      <td>1.014480</td>\n",
       "      <td>-0.509348</td>\n",
       "      <td>1.436807</td>\n",
       "      <td>0.250034</td>\n",
       "      <td>0.943651</td>\n",
       "      <td>0.823731</td>\n",
       "      <td>0.77</td>\n",
       "      <td>0</td>\n",
       "    </tr>\n",
       "    <tr>\n",
       "      <th>284803</th>\n",
       "      <td>172787.0</td>\n",
       "      <td>-0.732789</td>\n",
       "      <td>-0.055080</td>\n",
       "      <td>2.035030</td>\n",
       "      <td>-0.738589</td>\n",
       "      <td>0.868229</td>\n",
       "      <td>1.058415</td>\n",
       "      <td>0.024330</td>\n",
       "      <td>0.294869</td>\n",
       "      <td>0.584800</td>\n",
       "      <td>...</td>\n",
       "      <td>0.214205</td>\n",
       "      <td>0.924384</td>\n",
       "      <td>0.012463</td>\n",
       "      <td>-1.016226</td>\n",
       "      <td>-0.606624</td>\n",
       "      <td>-0.395255</td>\n",
       "      <td>0.068472</td>\n",
       "      <td>-0.053527</td>\n",
       "      <td>24.79</td>\n",
       "      <td>0</td>\n",
       "    </tr>\n",
       "    <tr>\n",
       "      <th>284804</th>\n",
       "      <td>172788.0</td>\n",
       "      <td>1.919565</td>\n",
       "      <td>-0.301254</td>\n",
       "      <td>-3.249640</td>\n",
       "      <td>-0.557828</td>\n",
       "      <td>2.630515</td>\n",
       "      <td>3.031260</td>\n",
       "      <td>-0.296827</td>\n",
       "      <td>0.708417</td>\n",
       "      <td>0.432454</td>\n",
       "      <td>...</td>\n",
       "      <td>0.232045</td>\n",
       "      <td>0.578229</td>\n",
       "      <td>-0.037501</td>\n",
       "      <td>0.640134</td>\n",
       "      <td>0.265745</td>\n",
       "      <td>-0.087371</td>\n",
       "      <td>0.004455</td>\n",
       "      <td>-0.026561</td>\n",
       "      <td>67.88</td>\n",
       "      <td>0</td>\n",
       "    </tr>\n",
       "    <tr>\n",
       "      <th>284805</th>\n",
       "      <td>172788.0</td>\n",
       "      <td>-0.240440</td>\n",
       "      <td>0.530483</td>\n",
       "      <td>0.702510</td>\n",
       "      <td>0.689799</td>\n",
       "      <td>-0.377961</td>\n",
       "      <td>0.623708</td>\n",
       "      <td>-0.686180</td>\n",
       "      <td>0.679145</td>\n",
       "      <td>0.392087</td>\n",
       "      <td>...</td>\n",
       "      <td>0.265245</td>\n",
       "      <td>0.800049</td>\n",
       "      <td>-0.163298</td>\n",
       "      <td>0.123205</td>\n",
       "      <td>-0.569159</td>\n",
       "      <td>0.546668</td>\n",
       "      <td>0.108821</td>\n",
       "      <td>0.104533</td>\n",
       "      <td>10.00</td>\n",
       "      <td>0</td>\n",
       "    </tr>\n",
       "    <tr>\n",
       "      <th>284806</th>\n",
       "      <td>172792.0</td>\n",
       "      <td>-0.533413</td>\n",
       "      <td>-0.189733</td>\n",
       "      <td>0.703337</td>\n",
       "      <td>-0.506271</td>\n",
       "      <td>-0.012546</td>\n",
       "      <td>-0.649617</td>\n",
       "      <td>1.577006</td>\n",
       "      <td>-0.414650</td>\n",
       "      <td>0.486180</td>\n",
       "      <td>...</td>\n",
       "      <td>0.261057</td>\n",
       "      <td>0.643078</td>\n",
       "      <td>0.376777</td>\n",
       "      <td>0.008797</td>\n",
       "      <td>-0.473649</td>\n",
       "      <td>-0.818267</td>\n",
       "      <td>-0.002415</td>\n",
       "      <td>0.013649</td>\n",
       "      <td>217.00</td>\n",
       "      <td>0</td>\n",
       "    </tr>\n",
       "  </tbody>\n",
       "</table>\n",
       "<p>284807 rows × 31 columns</p>\n",
       "</div>"
      ],
      "text/plain": [
       "            Time         V1         V2        V3        V4        V5  \\\n",
       "0            0.0  -1.359807  -0.072781  2.536347  1.378155 -0.338321   \n",
       "1            0.0   1.191857   0.266151  0.166480  0.448154  0.060018   \n",
       "2            1.0  -1.358354  -1.340163  1.773209  0.379780 -0.503198   \n",
       "3            1.0  -0.966272  -0.185226  1.792993 -0.863291 -0.010309   \n",
       "4            2.0  -1.158233   0.877737  1.548718  0.403034 -0.407193   \n",
       "...          ...        ...        ...       ...       ...       ...   \n",
       "284802  172786.0 -11.881118  10.071785 -9.834783 -2.066656 -5.364473   \n",
       "284803  172787.0  -0.732789  -0.055080  2.035030 -0.738589  0.868229   \n",
       "284804  172788.0   1.919565  -0.301254 -3.249640 -0.557828  2.630515   \n",
       "284805  172788.0  -0.240440   0.530483  0.702510  0.689799 -0.377961   \n",
       "284806  172792.0  -0.533413  -0.189733  0.703337 -0.506271 -0.012546   \n",
       "\n",
       "              V6        V7        V8        V9  ...       V21       V22  \\\n",
       "0       0.462388  0.239599  0.098698  0.363787  ... -0.018307  0.277838   \n",
       "1      -0.082361 -0.078803  0.085102 -0.255425  ... -0.225775 -0.638672   \n",
       "2       1.800499  0.791461  0.247676 -1.514654  ...  0.247998  0.771679   \n",
       "3       1.247203  0.237609  0.377436 -1.387024  ... -0.108300  0.005274   \n",
       "4       0.095921  0.592941 -0.270533  0.817739  ... -0.009431  0.798278   \n",
       "...          ...       ...       ...       ...  ...       ...       ...   \n",
       "284802 -2.606837 -4.918215  7.305334  1.914428  ...  0.213454  0.111864   \n",
       "284803  1.058415  0.024330  0.294869  0.584800  ...  0.214205  0.924384   \n",
       "284804  3.031260 -0.296827  0.708417  0.432454  ...  0.232045  0.578229   \n",
       "284805  0.623708 -0.686180  0.679145  0.392087  ...  0.265245  0.800049   \n",
       "284806 -0.649617  1.577006 -0.414650  0.486180  ...  0.261057  0.643078   \n",
       "\n",
       "             V23       V24       V25       V26       V27       V28  Amount  \\\n",
       "0      -0.110474  0.066928  0.128539 -0.189115  0.133558 -0.021053  149.62   \n",
       "1       0.101288 -0.339846  0.167170  0.125895 -0.008983  0.014724    2.69   \n",
       "2       0.909412 -0.689281 -0.327642 -0.139097 -0.055353 -0.059752  378.66   \n",
       "3      -0.190321 -1.175575  0.647376 -0.221929  0.062723  0.061458  123.50   \n",
       "4      -0.137458  0.141267 -0.206010  0.502292  0.219422  0.215153   69.99   \n",
       "...          ...       ...       ...       ...       ...       ...     ...   \n",
       "284802  1.014480 -0.509348  1.436807  0.250034  0.943651  0.823731    0.77   \n",
       "284803  0.012463 -1.016226 -0.606624 -0.395255  0.068472 -0.053527   24.79   \n",
       "284804 -0.037501  0.640134  0.265745 -0.087371  0.004455 -0.026561   67.88   \n",
       "284805 -0.163298  0.123205 -0.569159  0.546668  0.108821  0.104533   10.00   \n",
       "284806  0.376777  0.008797 -0.473649 -0.818267 -0.002415  0.013649  217.00   \n",
       "\n",
       "        Class  \n",
       "0           0  \n",
       "1           0  \n",
       "2           0  \n",
       "3           0  \n",
       "4           0  \n",
       "...       ...  \n",
       "284802      0  \n",
       "284803      0  \n",
       "284804      0  \n",
       "284805      0  \n",
       "284806      0  \n",
       "\n",
       "[284807 rows x 31 columns]"
      ]
     },
     "execution_count": 2,
     "metadata": {},
     "output_type": "execute_result"
    }
   ],
   "source": [
    "df = pd.read_csv(r'D:\\dataprocessing\\creditcard.csv')\n",
    "df"
   ]
  },
  {
   "cell_type": "code",
   "execution_count": 3,
   "metadata": {
    "execution": {
     "iopub.execute_input": "2024-07-07T07:07:48.250506Z",
     "iopub.status.busy": "2024-07-07T07:07:48.249986Z",
     "iopub.status.idle": "2024-07-07T07:07:48.256574Z",
     "shell.execute_reply": "2024-07-07T07:07:48.255135Z",
     "shell.execute_reply.started": "2024-07-07T07:07:48.250451Z"
    }
   },
   "outputs": [],
   "source": [
    "target = 'Class'"
   ]
  },
  {
   "cell_type": "code",
   "execution_count": 4,
   "metadata": {
    "execution": {
     "iopub.execute_input": "2024-07-07T07:07:48.260770Z",
     "iopub.status.busy": "2024-07-07T07:07:48.259955Z",
     "iopub.status.idle": "2024-07-07T07:07:48.311273Z",
     "shell.execute_reply": "2024-07-07T07:07:48.309706Z",
     "shell.execute_reply.started": "2024-07-07T07:07:48.260729Z"
    }
   },
   "outputs": [],
   "source": [
    "X = df.loc[:, df.columns!=target]\n",
    "Y = df.loc[:, df.columns==target]"
   ]
  },
  {
   "cell_type": "code",
   "execution_count": 5,
   "metadata": {
    "execution": {
     "iopub.execute_input": "2024-07-07T07:07:48.313519Z",
     "iopub.status.busy": "2024-07-07T07:07:48.313032Z",
     "iopub.status.idle": "2024-07-07T07:07:48.719721Z",
     "shell.execute_reply": "2024-07-07T07:07:48.718405Z",
     "shell.execute_reply.started": "2024-07-07T07:07:48.313478Z"
    }
   },
   "outputs": [
    {
     "name": "stdout",
     "output_type": "stream",
     "text": [
      "Class\n",
      "0    284315\n",
      "1       492\n",
      "Name: count, dtype: int64\n"
     ]
    },
    {
     "data": {
      "text/plain": [
       "Class\n",
       "0    227451\n",
       "1       394\n",
       "Name: count, dtype: int64"
      ]
     },
     "execution_count": 5,
     "metadata": {},
     "output_type": "execute_result"
    },
    {
     "data": {
      "image/png": "[encoded data removed]",
      "text/plain": [
       "<Figure size 640x480 with 1 Axes>"
      ]
     },
     "metadata": {},
     "output_type": "display_data"
    }
   ],
   "source": [
    "X_train, X_test, y_train, y_test = train_test_split(X, Y,test_size=0.20,random_state=42)\n",
    "\n",
    "\n",
    "ax = sns.countplot(x=target, data=df)\n",
    "print(df[target].value_counts())\n",
    "y_train[target].value_counts()"
   ]
  },
  {
   "cell_type": "markdown",
   "metadata": {},
   "source": [
    "# SMOTE"
   ]
  },
  {
   "cell_type": "code",
   "execution_count": 6,
   "metadata": {
    "execution": {
     "iopub.execute_input": "2024-07-07T07:07:48.721852Z",
     "iopub.status.busy": "2024-07-07T07:07:48.721435Z",
     "iopub.status.idle": "2024-07-07T07:07:49.250478Z",
     "shell.execute_reply": "2024-07-07T07:07:49.249065Z",
     "shell.execute_reply.started": "2024-07-07T07:07:48.721807Z"
    }
   },
   "outputs": [],
   "source": [
    "sm = SMOTE(random_state=12, sampling_strategy=1.0)\n",
    "x_train_res, y_train_res = sm.fit_resample(X_train, y_train)\n",
    "unique, count = np.unique(y_train_res, return_counts=True)\n",
    "y_train_smote_value_count = { k:v for (k,v) in zip(unique, count)}\n",
    "y_train_smote_value_count\n",
    "X_train=x_train_res\n",
    "y_train=y_train_res"
   ]
  },
  {
   "cell_type": "code",
   "execution_count": 7,
   "metadata": {
    "execution": {
     "iopub.execute_input": "2024-07-07T07:07:49.252894Z",
     "iopub.status.busy": "2024-07-07T07:07:49.252328Z",
     "iopub.status.idle": "2024-07-07T07:07:49.262197Z",
     "shell.execute_reply": "2024-07-07T07:07:49.260510Z",
     "shell.execute_reply.started": "2024-07-07T07:07:49.252845Z"
    }
   },
   "outputs": [],
   "source": [
    "def generate_model_report(y_actual, y_predicted):\n",
    "    print(\"Accuracy = \" , accuracy_score(y_actual, y_predicted))\n",
    "    print(\"Precision = \" ,precision_score(y_actual, y_predicted))\n",
    "    print(\"Recall = \" ,recall_score(y_actual, y_predicted))\n",
    "    print(\"F1 Score = \" ,f1_score(y_actual, y_predicted))\n",
    "    pass\n",
    "    \n",
    "def generate_auc_roc_curve(clf, X_test):\n",
    "    y_pred_proba = clf.predict_proba(X_test)[:, 1]\n",
    "    fpr, tpr, thresholds = roc_curve(Y_test,  y_pred_proba)\n",
    "    auc = roc_auc_score(Y_test, y_pred_proba)\n",
    "    plt.plot(fpr,tpr,label=\"AUC ROC Curve with Area Under the curve =\"+str(auc))\n",
    "    plt.legend(loc=4)\n",
    "    plt.show()\n",
    "    pass"
   ]
  },
  {
   "cell_type": "code",
   "execution_count": 8,
   "metadata": {
    "execution": {
     "iopub.execute_input": "2024-07-07T07:07:49.264194Z",
     "iopub.status.busy": "2024-07-07T07:07:49.263791Z",
     "iopub.status.idle": "2024-07-07T07:07:49.275958Z",
     "shell.execute_reply": "2024-07-07T07:07:49.274577Z",
     "shell.execute_reply.started": "2024-07-07T07:07:49.264160Z"
    }
   },
   "outputs": [
    {
     "data": {
      "text/plain": [
       "(454902, 30)"
      ]
     },
     "execution_count": 8,
     "metadata": {},
     "output_type": "execute_result"
    }
   ],
   "source": [
    "X_train.shape"
   ]
  },
  {
   "cell_type": "code",
   "execution_count": 9,
   "metadata": {
    "execution": {
     "iopub.execute_input": "2024-07-07T07:07:49.278262Z",
     "iopub.status.busy": "2024-07-07T07:07:49.277714Z",
     "iopub.status.idle": "2024-07-07T07:07:49.501362Z",
     "shell.execute_reply": "2024-07-07T07:07:49.500104Z",
     "shell.execute_reply.started": "2024-07-07T07:07:49.278213Z"
    }
   },
   "outputs": [
    {
     "data": {
      "text/html": [
       "<div>\n",
       "<style scoped>\n",
       "    .dataframe tbody tr th:only-of-type {\n",
       "        vertical-align: middle;\n",
       "    }\n",
       "\n",
       "    .dataframe tbody tr th {\n",
       "        vertical-align: top;\n",
       "    }\n",
       "\n",
       "    .dataframe thead th {\n",
       "        text-align: right;\n",
       "    }\n",
       "</style>\n",
       "<table border=\"1\" class=\"dataframe\">\n",
       "  <thead>\n",
       "    <tr style=\"text-align: right;\">\n",
       "      <th></th>\n",
       "      <th>Time</th>\n",
       "      <th>V1</th>\n",
       "      <th>V2</th>\n",
       "      <th>V3</th>\n",
       "      <th>V4</th>\n",
       "      <th>V5</th>\n",
       "      <th>V6</th>\n",
       "      <th>V7</th>\n",
       "      <th>V8</th>\n",
       "      <th>V9</th>\n",
       "      <th>...</th>\n",
       "      <th>V20</th>\n",
       "      <th>V21</th>\n",
       "      <th>V22</th>\n",
       "      <th>V23</th>\n",
       "      <th>V24</th>\n",
       "      <th>V25</th>\n",
       "      <th>V26</th>\n",
       "      <th>V27</th>\n",
       "      <th>V28</th>\n",
       "      <th>Amount</th>\n",
       "    </tr>\n",
       "  </thead>\n",
       "  <tbody>\n",
       "    <tr>\n",
       "      <th>0</th>\n",
       "      <td>143352.000000</td>\n",
       "      <td>1.955041</td>\n",
       "      <td>-0.380783</td>\n",
       "      <td>-0.315013</td>\n",
       "      <td>0.330155</td>\n",
       "      <td>-0.509374</td>\n",
       "      <td>-0.086197</td>\n",
       "      <td>-0.627978</td>\n",
       "      <td>0.035994</td>\n",
       "      <td>1.054560</td>\n",
       "      <td>...</td>\n",
       "      <td>-0.125390</td>\n",
       "      <td>0.238197</td>\n",
       "      <td>0.968305</td>\n",
       "      <td>0.053208</td>\n",
       "      <td>-0.278602</td>\n",
       "      <td>-0.044999</td>\n",
       "      <td>-0.216780</td>\n",
       "      <td>0.045168</td>\n",
       "      <td>-0.047145</td>\n",
       "      <td>9.990000</td>\n",
       "    </tr>\n",
       "    <tr>\n",
       "      <th>1</th>\n",
       "      <td>117173.000000</td>\n",
       "      <td>-0.400975</td>\n",
       "      <td>-0.626943</td>\n",
       "      <td>1.555339</td>\n",
       "      <td>-2.017772</td>\n",
       "      <td>-0.107769</td>\n",
       "      <td>0.168310</td>\n",
       "      <td>0.017959</td>\n",
       "      <td>-0.401619</td>\n",
       "      <td>0.040378</td>\n",
       "      <td>...</td>\n",
       "      <td>-0.470372</td>\n",
       "      <td>-0.153485</td>\n",
       "      <td>0.421703</td>\n",
       "      <td>0.113442</td>\n",
       "      <td>-1.004095</td>\n",
       "      <td>-1.176695</td>\n",
       "      <td>0.361924</td>\n",
       "      <td>-0.370469</td>\n",
       "      <td>-0.144792</td>\n",
       "      <td>45.900000</td>\n",
       "    </tr>\n",
       "    <tr>\n",
       "      <th>2</th>\n",
       "      <td>149565.000000</td>\n",
       "      <td>0.072509</td>\n",
       "      <td>0.820566</td>\n",
       "      <td>-0.561351</td>\n",
       "      <td>-0.709897</td>\n",
       "      <td>1.080399</td>\n",
       "      <td>-0.359429</td>\n",
       "      <td>0.787858</td>\n",
       "      <td>0.117276</td>\n",
       "      <td>-0.131275</td>\n",
       "      <td>...</td>\n",
       "      <td>0.012227</td>\n",
       "      <td>-0.314638</td>\n",
       "      <td>-0.872959</td>\n",
       "      <td>0.083391</td>\n",
       "      <td>0.148178</td>\n",
       "      <td>-0.431459</td>\n",
       "      <td>0.119690</td>\n",
       "      <td>0.206395</td>\n",
       "      <td>0.070288</td>\n",
       "      <td>11.990000</td>\n",
       "    </tr>\n",
       "    <tr>\n",
       "      <th>3</th>\n",
       "      <td>93670.000000</td>\n",
       "      <td>-0.535045</td>\n",
       "      <td>1.014587</td>\n",
       "      <td>1.750679</td>\n",
       "      <td>2.769390</td>\n",
       "      <td>0.500089</td>\n",
       "      <td>1.002270</td>\n",
       "      <td>0.847902</td>\n",
       "      <td>-0.081323</td>\n",
       "      <td>0.371579</td>\n",
       "      <td>...</td>\n",
       "      <td>-0.253757</td>\n",
       "      <td>0.063525</td>\n",
       "      <td>0.443431</td>\n",
       "      <td>-0.072754</td>\n",
       "      <td>0.448192</td>\n",
       "      <td>-0.655203</td>\n",
       "      <td>-0.181038</td>\n",
       "      <td>-0.093013</td>\n",
       "      <td>-0.064931</td>\n",
       "      <td>117.440000</td>\n",
       "    </tr>\n",
       "    <tr>\n",
       "      <th>4</th>\n",
       "      <td>82655.000000</td>\n",
       "      <td>-4.026938</td>\n",
       "      <td>1.897371</td>\n",
       "      <td>-0.429786</td>\n",
       "      <td>-0.029571</td>\n",
       "      <td>-0.855751</td>\n",
       "      <td>-0.480406</td>\n",
       "      <td>-0.435632</td>\n",
       "      <td>1.313760</td>\n",
       "      <td>0.536044</td>\n",
       "      <td>...</td>\n",
       "      <td>-0.012320</td>\n",
       "      <td>-0.480691</td>\n",
       "      <td>-0.230369</td>\n",
       "      <td>0.250717</td>\n",
       "      <td>0.066399</td>\n",
       "      <td>0.470787</td>\n",
       "      <td>0.245335</td>\n",
       "      <td>0.286904</td>\n",
       "      <td>-0.322672</td>\n",
       "      <td>25.760000</td>\n",
       "    </tr>\n",
       "    <tr>\n",
       "      <th>...</th>\n",
       "      <td>...</td>\n",
       "      <td>...</td>\n",
       "      <td>...</td>\n",
       "      <td>...</td>\n",
       "      <td>...</td>\n",
       "      <td>...</td>\n",
       "      <td>...</td>\n",
       "      <td>...</td>\n",
       "      <td>...</td>\n",
       "      <td>...</td>\n",
       "      <td>...</td>\n",
       "      <td>...</td>\n",
       "      <td>...</td>\n",
       "      <td>...</td>\n",
       "      <td>...</td>\n",
       "      <td>...</td>\n",
       "      <td>...</td>\n",
       "      <td>...</td>\n",
       "      <td>...</td>\n",
       "      <td>...</td>\n",
       "      <td>...</td>\n",
       "    </tr>\n",
       "    <tr>\n",
       "      <th>454897</th>\n",
       "      <td>41139.288903</td>\n",
       "      <td>-4.672245</td>\n",
       "      <td>5.070271</td>\n",
       "      <td>-7.636822</td>\n",
       "      <td>7.528021</td>\n",
       "      <td>-6.949536</td>\n",
       "      <td>-1.773207</td>\n",
       "      <td>-8.276517</td>\n",
       "      <td>2.767726</td>\n",
       "      <td>-7.065673</td>\n",
       "      <td>...</td>\n",
       "      <td>1.637298</td>\n",
       "      <td>2.245313</td>\n",
       "      <td>0.548504</td>\n",
       "      <td>0.041102</td>\n",
       "      <td>0.591497</td>\n",
       "      <td>0.351393</td>\n",
       "      <td>0.374523</td>\n",
       "      <td>2.133736</td>\n",
       "      <td>0.944921</td>\n",
       "      <td>329.769372</td>\n",
       "    </tr>\n",
       "    <tr>\n",
       "      <th>454898</th>\n",
       "      <td>18275.265510</td>\n",
       "      <td>-12.885612</td>\n",
       "      <td>5.930993</td>\n",
       "      <td>-15.864035</td>\n",
       "      <td>10.443404</td>\n",
       "      <td>-3.708508</td>\n",
       "      <td>-3.050499</td>\n",
       "      <td>-14.849994</td>\n",
       "      <td>-1.297643</td>\n",
       "      <td>-6.031691</td>\n",
       "      <td>...</td>\n",
       "      <td>0.966632</td>\n",
       "      <td>-2.266429</td>\n",
       "      <td>0.225676</td>\n",
       "      <td>-3.192680</td>\n",
       "      <td>-0.717504</td>\n",
       "      <td>0.173497</td>\n",
       "      <td>0.665850</td>\n",
       "      <td>2.431572</td>\n",
       "      <td>-0.886009</td>\n",
       "      <td>1.284834</td>\n",
       "    </tr>\n",
       "    <tr>\n",
       "      <th>454899</th>\n",
       "      <td>155550.816770</td>\n",
       "      <td>0.508201</td>\n",
       "      <td>2.161775</td>\n",
       "      <td>-3.777326</td>\n",
       "      <td>3.705829</td>\n",
       "      <td>0.302453</td>\n",
       "      <td>-1.625310</td>\n",
       "      <td>-0.593478</td>\n",
       "      <td>0.212879</td>\n",
       "      <td>-2.211695</td>\n",
       "      <td>...</td>\n",
       "      <td>0.375037</td>\n",
       "      <td>0.282634</td>\n",
       "      <td>-0.090512</td>\n",
       "      <td>-0.063457</td>\n",
       "      <td>-0.261962</td>\n",
       "      <td>0.322438</td>\n",
       "      <td>0.342420</td>\n",
       "      <td>0.302770</td>\n",
       "      <td>0.161023</td>\n",
       "      <td>48.259955</td>\n",
       "    </tr>\n",
       "    <tr>\n",
       "      <th>454900</th>\n",
       "      <td>143442.242331</td>\n",
       "      <td>-2.458646</td>\n",
       "      <td>3.448899</td>\n",
       "      <td>-4.700197</td>\n",
       "      <td>5.859372</td>\n",
       "      <td>-0.845362</td>\n",
       "      <td>-1.331758</td>\n",
       "      <td>-3.767865</td>\n",
       "      <td>2.011206</td>\n",
       "      <td>-3.633724</td>\n",
       "      <td>...</td>\n",
       "      <td>0.280477</td>\n",
       "      <td>0.722354</td>\n",
       "      <td>-0.212428</td>\n",
       "      <td>-0.251274</td>\n",
       "      <td>-0.457646</td>\n",
       "      <td>0.328235</td>\n",
       "      <td>0.230334</td>\n",
       "      <td>0.503863</td>\n",
       "      <td>0.072291</td>\n",
       "      <td>1.000000</td>\n",
       "    </tr>\n",
       "    <tr>\n",
       "      <th>454901</th>\n",
       "      <td>93861.226335</td>\n",
       "      <td>-8.369210</td>\n",
       "      <td>7.181820</td>\n",
       "      <td>-14.683987</td>\n",
       "      <td>8.845379</td>\n",
       "      <td>-9.102178</td>\n",
       "      <td>-3.874764</td>\n",
       "      <td>-13.066179</td>\n",
       "      <td>6.185958</td>\n",
       "      <td>-4.618460</td>\n",
       "      <td>...</td>\n",
       "      <td>-0.104642</td>\n",
       "      <td>2.584525</td>\n",
       "      <td>0.245072</td>\n",
       "      <td>0.198156</td>\n",
       "      <td>0.410826</td>\n",
       "      <td>-0.435909</td>\n",
       "      <td>-0.189263</td>\n",
       "      <td>-0.929854</td>\n",
       "      <td>0.047728</td>\n",
       "      <td>40.283760</td>\n",
       "    </tr>\n",
       "  </tbody>\n",
       "</table>\n",
       "<p>454902 rows × 30 columns</p>\n",
       "</div>"
      ],
      "text/plain": [
       "                 Time         V1        V2         V3         V4        V5  \\\n",
       "0       143352.000000   1.955041 -0.380783  -0.315013   0.330155 -0.509374   \n",
       "1       117173.000000  -0.400975 -0.626943   1.555339  -2.017772 -0.107769   \n",
       "2       149565.000000   0.072509  0.820566  -0.561351  -0.709897  1.080399   \n",
       "3        93670.000000  -0.535045  1.014587   1.750679   2.769390  0.500089   \n",
       "4        82655.000000  -4.026938  1.897371  -0.429786  -0.029571 -0.855751   \n",
       "...               ...        ...       ...        ...        ...       ...   \n",
       "454897   41139.288903  -4.672245  5.070271  -7.636822   7.528021 -6.949536   \n",
       "454898   18275.265510 -12.885612  5.930993 -15.864035  10.443404 -3.708508   \n",
       "454899  155550.816770   0.508201  2.161775  -3.777326   3.705829  0.302453   \n",
       "454900  143442.242331  -2.458646  3.448899  -4.700197   5.859372 -0.845362   \n",
       "454901   93861.226335  -8.369210  7.181820 -14.683987   8.845379 -9.102178   \n",
       "\n",
       "              V6         V7        V8        V9  ...       V20       V21  \\\n",
       "0      -0.086197  -0.627978  0.035994  1.054560  ... -0.125390  0.238197   \n",
       "1       0.168310   0.017959 -0.401619  0.040378  ... -0.470372 -0.153485   \n",
       "2      -0.359429   0.787858  0.117276 -0.131275  ...  0.012227 -0.314638   \n",
       "3       1.002270   0.847902 -0.081323  0.371579  ... -0.253757  0.063525   \n",
       "4      -0.480406  -0.435632  1.313760  0.536044  ... -0.012320 -0.480691   \n",
       "...          ...        ...       ...       ...  ...       ...       ...   \n",
       "454897 -1.773207  -8.276517  2.767726 -7.065673  ...  1.637298  2.245313   \n",
       "454898 -3.050499 -14.849994 -1.297643 -6.031691  ...  0.966632 -2.266429   \n",
       "454899 -1.625310  -0.593478  0.212879 -2.211695  ...  0.375037  0.282634   \n",
       "454900 -1.331758  -3.767865  2.011206 -3.633724  ...  0.280477  0.722354   \n",
       "454901 -3.874764 -13.066179  6.185958 -4.618460  ... -0.104642  2.584525   \n",
       "\n",
       "             V22       V23       V24       V25       V26       V27       V28  \\\n",
       "0       0.968305  0.053208 -0.278602 -0.044999 -0.216780  0.045168 -0.047145   \n",
       "1       0.421703  0.113442 -1.004095 -1.176695  0.361924 -0.370469 -0.144792   \n",
       "2      -0.872959  0.083391  0.148178 -0.431459  0.119690  0.206395  0.070288   \n",
       "3       0.443431 -0.072754  0.448192 -0.655203 -0.181038 -0.093013 -0.064931   \n",
       "4      -0.230369  0.250717  0.066399  0.470787  0.245335  0.286904 -0.322672   \n",
       "...          ...       ...       ...       ...       ...       ...       ...   \n",
       "454897  0.548504  0.041102  0.591497  0.351393  0.374523  2.133736  0.944921   \n",
       "454898  0.225676 -3.192680 -0.717504  0.173497  0.665850  2.431572 -0.886009   \n",
       "454899 -0.090512 -0.063457 -0.261962  0.322438  0.342420  0.302770  0.161023   \n",
       "454900 -0.212428 -0.251274 -0.457646  0.328235  0.230334  0.503863  0.072291   \n",
       "454901  0.245072  0.198156  0.410826 -0.435909 -0.189263 -0.929854  0.047728   \n",
       "\n",
       "            Amount  \n",
       "0         9.990000  \n",
       "1        45.900000  \n",
       "2        11.990000  \n",
       "3       117.440000  \n",
       "4        25.760000  \n",
       "...            ...  \n",
       "454897  329.769372  \n",
       "454898    1.284834  \n",
       "454899   48.259955  \n",
       "454900    1.000000  \n",
       "454901   40.283760  \n",
       "\n",
       "[454902 rows x 30 columns]"
      ]
     },
     "execution_count": 9,
     "metadata": {},
     "output_type": "execute_result"
    }
   ],
   "source": [
    "X_train"
   ]
  },
  {
   "cell_type": "code",
   "execution_count": 10,
   "metadata": {
    "execution": {
     "iopub.execute_input": "2024-07-07T07:21:51.402925Z",
     "iopub.status.busy": "2024-07-07T07:21:51.402356Z",
     "iopub.status.idle": "2024-07-07T07:21:51.419328Z",
     "shell.execute_reply": "2024-07-07T07:21:51.417954Z",
     "shell.execute_reply.started": "2024-07-07T07:21:51.402870Z"
    }
   },
   "outputs": [
    {
     "data": {
      "text/plain": [
       "Class\n",
       "0    227451\n",
       "1    227451\n",
       "Name: count, dtype: int64"
      ]
     },
     "execution_count": 10,
     "metadata": {},
     "output_type": "execute_result"
    }
   ],
   "source": [
    "y_train[target].value_counts()"
   ]
  },
  {
   "cell_type": "code",
   "execution_count": 11,
   "metadata": {
    "execution": {
     "iopub.execute_input": "2024-07-07T07:30:00.967602Z",
     "iopub.status.busy": "2024-07-07T07:30:00.967066Z",
     "iopub.status.idle": "2024-07-07T07:54:12.676984Z",
     "shell.execute_reply": "2024-07-07T07:54:12.675465Z",
     "shell.execute_reply.started": "2024-07-07T07:30:00.967564Z"
    }
   },
   "outputs": [
    {
     "name": "stderr",
     "output_type": "stream",
     "text": [
      "C:\\Users\\almah\\AppData\\Roaming\\Python\\Python311\\site-packages\\sklearn\\base.py:1152: DataConversionWarning: A column-vector y was passed when a 1d array was expected. Please change the shape of y to (n_samples,), for example using ravel().\n",
      "  return fit_method(estimator, *args, **kwargs)\n"
     ]
    },
    {
     "name": "stdout",
     "output_type": "stream",
     "text": [
      "Elapsed time :  612.1530744999181\n"
     ]
    },
    {
     "name": "stderr",
     "output_type": "stream",
     "text": [
      "C:\\Users\\almah\\AppData\\Roaming\\Python\\Python311\\site-packages\\sklearn\\neighbors\\_classification.py:233: DataConversionWarning: A column-vector y was passed when a 1d array was expected. Please change the shape of y to (n_samples,), for example using ravel().\n",
      "  return self._fit(X, y)\n"
     ]
    },
    {
     "name": "stdout",
     "output_type": "stream",
     "text": [
      "Elapsed time :  0.39424019993748516\n",
      "Elapsed time :  42.685413900064304\n"
     ]
    },
    {
     "name": "stderr",
     "output_type": "stream",
     "text": [
      "C:\\Users\\almah\\AppData\\Roaming\\Python\\Python311\\site-packages\\sklearn\\neural_network\\_multilayer_perceptron.py:1102: DataConversionWarning: A column-vector y was passed when a 1d array was expected. Please change the shape of y to (n_samples, ), for example using ravel().\n",
      "  y = column_or_1d(y, warn=True)\n"
     ]
    },
    {
     "name": "stdout",
     "output_type": "stream",
     "text": [
      "Elapsed time :  1281.851130300085\n",
      "Elapsed time :  77.87898779998068\n"
     ]
    }
   ],
   "source": [
    "# Train Random Forest classifier, Extra-Trees classifier, SVM and MLP\n",
    "\n",
    "from sklearn.ensemble import RandomForestClassifier, ExtraTreesClassifier\n",
    "from sklearn.svm import SVC\n",
    "from xgboost import XGBClassifier\n",
    "from sklearn.neural_network import MLPClassifier\n",
    "from sklearn.metrics import classification_report , confusion_matrix\n",
    "from sklearn.neighbors import KNeighborsClassifier \n",
    "from sklearn.naive_bayes import BernoulliNB\n",
    "from sklearn import tree\n",
    "classify_ = tree.DecisionTreeClassifier(criterion= 'entropy', max_depth= 10, min_samples_leaf= 6, min_samples_split= 3)\n",
    "model = XGBClassifier(colsample_bytree= 1 , gamma = 0 , max_depth= 12, min_child_weight= 1, n_estimators=1750, reg_alpha= 0, reg_lambda= 0, seed= 0)\n",
    "random_forest_clf = RandomForestClassifier(n_jobs=4, \n",
    "                             random_state=2018,\n",
    "                             criterion='gini',\n",
    "                             n_estimators=100,\n",
    "                             verbose=False)\n",
    "extra_trees_clf = ExtraTreesClassifier(n_estimators=10, random_state=42)\n",
    "svm_clf =SVC()\n",
    "mlp_clf = MLPClassifier(hidden_layer_sizes=(200,), max_iter=10000)\n",
    "lr_clf=LogisticRegression(random_state=42)\n",
    "knn_clf=KNeighborsClassifier(n_neighbors= 9,metric='manhattan',weights='uniform')\n",
    "kb_clf=BernoulliNB(binarize=0.0)\n",
    "estimators = [random_forest_clf,knn_clf,classify_,mlp_clf,model]\n",
    "for estimator in estimators:\n",
    "    start_time = perf_counter()\n",
    "    estimator.fit(X_train, y_train)\n",
    "    end_time = perf_counter()\n",
    "    elapsed_time = end_time - start_time\n",
    "\n",
    "    print(\"Elapsed time : \",elapsed_time)\n",
    "    "
   ]
  },
  {
   "cell_type": "code",
   "execution_count": 12,
   "metadata": {
    "execution": {
     "iopub.execute_input": "2024-07-07T07:57:08.830143Z",
     "iopub.status.busy": "2024-07-07T07:57:08.829591Z",
     "iopub.status.idle": "2024-07-07T07:57:11.073692Z",
     "shell.execute_reply": "2024-07-07T07:57:11.072590Z",
     "shell.execute_reply.started": "2024-07-07T07:57:08.830104Z"
    }
   },
   "outputs": [
    {
     "data": {
      "text/plain": [
       "[0.9995259997893332,\n",
       " 0.9703310979249324,\n",
       " 0.9907833292370353,\n",
       " 0.979424879744391,\n",
       " 0.9994908886626171]"
      ]
     },
     "execution_count": 12,
     "metadata": {},
     "output_type": "execute_result"
    }
   ],
   "source": [
    "# .score() method directly calls sklearn.metrics.accuracy_score method.\n",
    "\n",
    "[estimator.score(X_test, y_test) for estimator in estimators]"
   ]
  },
  {
   "cell_type": "markdown",
   "metadata": {},
   "source": []
  },
  {
   "cell_type": "code",
   "execution_count": 13,
   "metadata": {
    "execution": {
     "iopub.execute_input": "2024-07-07T07:57:58.542501Z",
     "iopub.status.busy": "2024-07-07T07:57:58.541439Z",
     "iopub.status.idle": "2024-07-07T07:57:58.548999Z",
     "shell.execute_reply": "2024-07-07T07:57:58.547590Z",
     "shell.execute_reply.started": "2024-07-07T07:57:58.542457Z"
    }
   },
   "outputs": [],
   "source": [
    "# Combine the classifiers into an ensemble that outperforms them all on the validation set, using a soft or hard voting classifier.\n",
    "\n",
    "from sklearn.ensemble import VotingClassifier\n",
    "\n",
    "named_estimators = [ (\"random_forest_clf\", random_forest_clf),(\"knn \",knn_clf), (\"decision tree\", classify_),(\"ann\",mlp_clf),(\"xgbc\",model)] #,(\"lr_clf\",lr_clf),(\"knn_clf\",knn_clf),(\"kb_clf\",kb_clf)"
   ]
  },
  {
   "cell_type": "code",
   "execution_count": 14,
   "metadata": {
    "execution": {
     "iopub.execute_input": "2024-07-07T07:58:08.142149Z",
     "iopub.status.busy": "2024-07-07T07:58:08.141707Z",
     "iopub.status.idle": "2024-07-07T07:58:08.148293Z",
     "shell.execute_reply": "2024-07-07T07:58:08.147031Z",
     "shell.execute_reply.started": "2024-07-07T07:58:08.142088Z"
    }
   },
   "outputs": [],
   "source": [
    "voting_clf = VotingClassifier(named_estimators,voting ='hard')"
   ]
  },
  {
   "cell_type": "code",
   "execution_count": null,
   "metadata": {},
   "outputs": [],
   "source": []
  },
  {
   "cell_type": "code",
   "execution_count": 15,
   "metadata": {
    "execution": {
     "iopub.execute_input": "2024-07-07T07:58:15.030084Z",
     "iopub.status.busy": "2024-07-07T07:58:15.029495Z",
     "iopub.status.idle": "2024-07-07T08:27:40.719969Z",
     "shell.execute_reply": "2024-07-07T08:27:40.718216Z",
     "shell.execute_reply.started": "2024-07-07T07:58:15.030043Z"
    }
   },
   "outputs": [
    {
     "name": "stderr",
     "output_type": "stream",
     "text": [
      "C:\\Users\\almah\\AppData\\Roaming\\Python\\Python311\\site-packages\\sklearn\\preprocessing\\_label.py:97: DataConversionWarning: A column-vector y was passed when a 1d array was expected. Please change the shape of y to (n_samples, ), for example using ravel().\n",
      "  y = column_or_1d(y, warn=True)\n",
      "C:\\Users\\almah\\AppData\\Roaming\\Python\\Python311\\site-packages\\sklearn\\preprocessing\\_label.py:132: DataConversionWarning: A column-vector y was passed when a 1d array was expected. Please change the shape of y to (n_samples, ), for example using ravel().\n",
      "  y = column_or_1d(y, dtype=self.classes_.dtype, warn=True)\n"
     ]
    },
    {
     "name": "stdout",
     "output_type": "stream",
     "text": [
      "elapsed time 957.620019099908\n"
     ]
    }
   ],
   "source": [
    "start_time =timeit.default_timer()\n",
    "voting_clf.fit(X_train, y_train)\n",
    "end_time = timeit.default_timer()\n",
    "elapsed_time = end_time - start_time\n",
    "print('elapsed time',elapsed_time)"
   ]
  },
  {
   "cell_type": "code",
   "execution_count": 16,
   "metadata": {
    "execution": {
     "iopub.execute_input": "2024-07-07T08:27:40.723359Z",
     "iopub.status.busy": "2024-07-07T08:27:40.722829Z",
     "iopub.status.idle": "2024-07-07T08:28:03.262583Z",
     "shell.execute_reply": "2024-07-07T08:28:03.261297Z",
     "shell.execute_reply.started": "2024-07-07T08:27:40.723313Z"
    }
   },
   "outputs": [
    {
     "name": "stdout",
     "output_type": "stream",
     "text": [
      "elapsed time 2010.7120696000056\n",
      "elapsed time 314.3110147000989\n",
      "Accuracy score on Test data : 0.9995084442259752\n"
     ]
    }
   ],
   "source": [
    "start_time =timeit.default_timer()\n",
    "x_train_prediction = voting_clf.predict(X_train)\n",
    "end_time = timeit.default_timer()\n",
    "elapsed_time = end_time - start_time\n",
    "print('elapsed time',elapsed_time)\n",
    "\n",
    "start_time =timeit.default_timer()\n",
    "x_test_prediction=voting_clf.predict(X_test)\n",
    "end_time = timeit.default_timer()\n",
    "elapsed_time = end_time - start_time\n",
    "print('elapsed time',elapsed_time)\n",
    "training_data_accuracy = accuracy_score(x_test_prediction , y_test)\n",
    "test_data_accuracy=accuracy_score(x_test_prediction,y_test)\n",
    "print('Accuracy score on Test data :' ,test_data_accuracy)"
   ]
  },
  {
   "cell_type": "code",
   "execution_count": 17,
   "metadata": {
    "execution": {
     "iopub.status.busy": "2024-07-07T07:20:29.297891Z",
     "iopub.status.idle": "2024-07-07T07:20:29.298875Z",
     "shell.execute_reply": "2024-07-07T07:20:29.298586Z",
     "shell.execute_reply.started": "2024-07-07T07:20:29.298557Z"
    }
   },
   "outputs": [
    {
     "data": {
      "text/plain": [
       "(56962, 30)"
      ]
     },
     "execution_count": 17,
     "metadata": {},
     "output_type": "execute_result"
    }
   ],
   "source": [
    "X_test.shape"
   ]
  },
  {
   "cell_type": "code",
   "execution_count": 18,
   "metadata": {
    "execution": {
     "iopub.execute_input": "2024-07-07T08:28:03.264368Z",
     "iopub.status.busy": "2024-07-07T08:28:03.263993Z",
     "iopub.status.idle": "2024-07-07T08:28:03.370423Z",
     "shell.execute_reply": "2024-07-07T08:28:03.369123Z",
     "shell.execute_reply.started": "2024-07-07T08:28:03.264334Z"
    }
   },
   "outputs": [
    {
     "name": "stdout",
     "output_type": "stream",
     "text": [
      "Accuracy =  0.9995084442259752\n",
      "Precision =  0.8645833333333334\n",
      "Recall =  0.8469387755102041\n",
      "F1 Score =  0.8556701030927835\n",
      "None\n",
      "[[56851    13]\n",
      " [   15    83]]\n"
     ]
    }
   ],
   "source": [
    "print(generate_model_report(y_test, x_test_prediction))\n",
    "print(confusion_matrix(y_test, x_test_prediction))"
   ]
  },
  {
   "cell_type": "markdown",
   "metadata": {},
   "source": [
    "# ROC AUC Curve"
   ]
  },
  {
   "cell_type": "code",
   "execution_count": 19,
   "metadata": {
    "execution": {
     "iopub.execute_input": "2024-07-07T08:38:26.151698Z",
     "iopub.status.busy": "2024-07-07T08:38:26.151165Z",
     "iopub.status.idle": "2024-07-07T08:38:29.203089Z",
     "shell.execute_reply": "2024-07-07T08:38:29.201515Z",
     "shell.execute_reply.started": "2024-07-07T08:38:26.151655Z"
    }
   },
   "outputs": [
    {
     "data": {
      "image/png": "[encoded data removed]",
      "text/plain": [
       "<Figure size 500x500 with 1 Axes>"
      ]
     },
     "metadata": {},
     "output_type": "display_data"
    }
   ],
   "source": [
    "from sklearn.metrics import roc_curve, auc\n",
    "\n",
    "y_pred = voting_clf.predict(X_test)\n",
    "\n",
    "# Compute ROC curve\n",
    "fpr, tpr, thresholds = roc_curve(y_test, y_pred)\n",
    "\n",
    "# Compute ROC AUC\n",
    "roc_auc = auc(fpr, tpr)\n",
    "\n",
    "# Plot the ROC curve\n",
    "plt.figure(figsize=(5,5))\n",
    "plt.plot(fpr, tpr, color='darkorange', lw=2, label=\"ROC curve=\"  +str(roc_auc))\n",
    "plt.plot([0, 1], [0, 1], color='navy', lw=2, linestyle='--')\n",
    "#plt.xlim([0.0, 1.0])\n",
    "#plt.ylim([0.0, 1.05])\n",
    "plt.xlabel('False Positive Rate')\n",
    "plt.ylabel('True Positive Rate')\n",
    "plt.title('ROC AUC Curve on Ensemble:Voting')\n",
    "plt.legend(loc=\"lower right\")\n",
    "plt.show()"
   ]
  },
  {
   "cell_type": "markdown",
   "metadata": {},
   "source": [
    "# PR Curve"
   ]
  },
  {
   "cell_type": "code",
   "execution_count": 20,
   "metadata": {
    "execution": {
     "iopub.execute_input": "2024-07-07T08:37:06.556868Z",
     "iopub.status.busy": "2024-07-07T08:37:06.556449Z",
     "iopub.status.idle": "2024-07-07T08:37:09.548695Z",
     "shell.execute_reply": "2024-07-07T08:37:09.547498Z",
     "shell.execute_reply.started": "2024-07-07T08:37:06.556835Z"
    }
   },
   "outputs": [
    {
     "data": {
      "image/png": "[encoded data removed]",
      "text/plain": [
       "<Figure size 500x500 with 1 Axes>"
      ]
     },
     "metadata": {},
     "output_type": "display_data"
    }
   ],
   "source": [
    "from sklearn.metrics import precision_recall_curve\n",
    "from sklearn import metrics\n",
    "\n",
    "y_pred = voting_clf.predict(X_test)\n",
    "\n",
    "# Compute precision-recall curve\n",
    "precision, recall, thresholds = precision_recall_curve(y_test, y_pred)\n",
    "auc_score_rf=metrics.auc(recall, precision)\n",
    "\n",
    "\n",
    "\n",
    "plt.figure(figsize=(5,5))\n",
    "plt.plot(recall, precision, marker='',label=\"PR Curve=\"+str(auc_score_rf))\n",
    "\n",
    "plt.xlabel(\"Recall\")\n",
    "plt.ylabel(\"Precision\")\n",
    "plt.title(\"Recall-Precision Curve on Ensemble voting:Hard\")\n",
    "plt.legend()\n",
    "plt.show()"
   ]
  },
  {
   "cell_type": "markdown",
   "metadata": {},
   "source": []
  }
 ],
 "metadata": {
  "kaggle": {
   "accelerator": "none",
   "dataSources": [
    {
     "datasetId": 4256822,
     "sourceId": 7332832,
     "sourceType": "datasetVersion"
    },
    {
     "datasetId": 4256850,
     "sourceId": 7332868,
     "sourceType": "datasetVersion"
    }
   ],
   "dockerImageVersionId": 30626,
   "isGpuEnabled": false,
   "isInternetEnabled": false,
   "language": "python",
   "sourceType": "notebook"
  },
  "kernelspec": {
   "display_name": "Python 3 (ipykernel)",
   "language": "python",
   "name": "python3"
  },
  "language_info": {
   "codemirror_mode": {
    "name": "ipython",
    "version": 3
   },
   "file_extension": ".py",
   "mimetype": "text/x-python",
   "name": "python",
   "nbconvert_exporter": "python",
   "pygments_lexer": "ipython3",
   "version": "3.11.5"
  }
 },
 "nbformat": 4,
 "nbformat_minor": 4
}
